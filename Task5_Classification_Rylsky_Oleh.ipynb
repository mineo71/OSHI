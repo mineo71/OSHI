{
 "cells": [
  {
   "cell_type": "markdown",
   "metadata": {
    "id": "yS3c5TMcysZk"
   },
   "source": [
    "## Лабораторна робота 5. **CLASSIFICATION** 🔵/🔺"
   ]
  },
  {
   "cell_type": "markdown",
   "metadata": {
    "id": "o_YxWfDYysZp"
   },
   "source": [
    "Оцінювання даної роботи буде ураховувати якість Ваших висновків та візуалізацій. При наявності ЛИШЕ коду та візуалізацій без роз'яснень, робота оцінюватися НЕ БУДЕ.  \n",
    "\n",
    "Більшість поставлених в цій лабораторній роботі задач в майбутньому буде ставитись Вами самойстійно!\n",
    "\n",
    "Під час виконання Вам дозволено користуватися будь-якими зручними для вас бібліотеками для візуалізації. \n",
    "\n",
    "Оформлення коментарів повинно проводитися в текстових комірках ноутбука з використанням синтаксису [LaTeX](https://en.wikibooks.org/wiki/LaTeX/Basics) для оформлення тексту та формул. \n",
    "\n",
    "Роботи ідентифіковані як ІДЕНТИЧНІ одразу отримують 0 балів."
   ]
  },
  {
   "cell_type": "markdown",
   "metadata": {
    "id": "ji8bJZmkysZq"
   },
   "source": [
    "# Опис вибірки \"bank-additional-full\""
   ]
  },
  {
   "cell_type": "markdown",
   "metadata": {
    "id": "fN7lEmYNysZq"
   },
   "source": [
    "   # Input variables:\n",
    "   `bank client data:`  \n",
    "   1 - **age** (numeric)  \n",
    "   2 - **job** : type of job (categorical: \"admin.\",\"blue-collar\",\"entrepreneur\",\"housemaid\",\"management\",\"retired\",\"self-employed\",\"services\",\"student\",\"technician\",\"unemployed\",\"unknown\")  \n",
    "   3 - **marital** : marital status (categorical: \"divorced\",\"married\",\"single\",\"unknown\"; note: \"divorced\" means divorced or widowed)  \n",
    "   4 - **education** (categorical: \"basic.4y\",\"basic.6y\",\"basic.9y\",\"high.school\",\"illiterate\",\"professional.course\",\"university.degree\",\"unknown\")  \n",
    "   5 - **default**: has credit in default? (categorical: \"no\",\"yes\",\"unknown\")  \n",
    "   6 - **housing**: has housing loan? (categorical: \"no\",\"yes\",\"unknown\")  \n",
    "   7 - **loan**: has personal loan? (categorical: \"no\",\"yes\",\"unknown\")  \n",
    "   # related with the last contact of the current campaign:  \n",
    "   8 - **contact**: contact communication type (categorical: \"cellular\",\"telephone\")   \n",
    "   9 - **month**: last contact month of year (categorical: \"jan\", \"feb\", \"mar\", ..., \"nov\", \"dec\")  \n",
    "  10 - **day_of_week**: last contact day of the week (categorical: \"mon\",\"tue\",\"wed\",\"thu\",\"fri\")  \n",
    "  11 - **duration**: last contact duration, in seconds (numeric). Important note:  this attribute highly affects the output target (e.g., if duration=0 then y=\"no\"). Yet, the duration is not known before a call is performed. Also, after the end of the call y is obviously known. Thus, this input should only be included for benchmark purposes and should be discarded if the intention is to have a realistic predictive model.  \n",
    "   # other attributes:  \n",
    "  12 - **campaign**: number of contacts performed during this campaign and for this client (numeric, includes last contact)  \n",
    "  13 - **pdays**: number of days that passed by after the client was last contacted from a previous campaign (numeric; 999 means client was not previously contacted)  \n",
    "  14 - **previous**: number of contacts performed before this campaign and for this client (numeric) \n",
    "  15 - **poutcome**: outcome of the previous marketing campaign (categorical: \"failure\",\"nonexistent\",\"success\")  \n",
    "   # social and economic context attributes  \n",
    "  16 - **emp.var.rate**: employment variation rate - quarterly indicator (numeric)  \n",
    "  17 - **cons.price.idx**: consumer price index - monthly indicator (numeric)       \n",
    "  18 - **cons.conf.idx**: consumer confidence index - monthly indicator (numeric)       \n",
    "  19 - **euribor3m**: euribor 3 month rate - daily indicator (numeric)  \n",
    "  20 - **nr.employed**: number of employees - quarterly indicator (numeric)  \n",
    "    \n",
    "   `Output variable (desired target):`  \n",
    "  21 - **y** - has the client subscribed a term deposit? (binary: \"yes\",\"no\")"
   ]
  },
  {
   "cell_type": "markdown",
   "metadata": {
    "id": "BewrKRUIysZr"
   },
   "source": [
    "## Імпорт необхідних бібліотек та завантаження даних"
   ]
  },
  {
   "cell_type": "markdown",
   "metadata": {
    "id": "sxyNYSbRysZr"
   },
   "source": [
    "**Завдання 1** підготовка даних до опрацювання\n",
    "\n",
    "1. завантажте вибірку `bank-additional-full.csv`;   \n",
    "2. підключіть необхідні бібліотеки;  \n",
    "3. вивести основну статистичну інформацію по числовим змінним;  \n",
    "4. вивести розмірність датасету."
   ]
  },
  {
   "cell_type": "code",
   "metadata": {
    "id": "8f4DR0U4ysZr",
    "ExecuteTime": {
     "end_time": "2024-04-09T19:00:56.490615Z",
     "start_time": "2024-04-09T19:00:56.487295Z"
    }
   },
   "source": [
    "import numpy as np\n",
    "import pandas as pd\n",
    "import matplotlib.pyplot as plt\n",
    "import seaborn as sns\n",
    "from sklearn.preprocessing import LabelEncoder\n",
    "from sklearn.model_selection import train_test_split\n",
    "from sklearn.model_selection import KFold\n",
    "from sklearn.linear_model import LogisticRegression\n",
    "from sklearn.model_selection import cross_val_score\n",
    "from sklearn.metrics import confusion_matrix, accuracy_score\n",
    "from sklearn.model_selection import train_test_split\n",
    "from sklearn.preprocessing import StandardScaler\n",
    "from sklearn import model_selection\n",
    "from sklearn.neighbors import KNeighborsClassifier\n",
    "\n",
    "%matplotlib inline\n",
    "import warnings\n",
    "warnings.filterwarnings('ignore')"
   ],
   "outputs": [],
   "execution_count": 3
  },
  {
   "cell_type": "code",
   "metadata": {
    "id": "uzAsItFFysZs",
    "ExecuteTime": {
     "end_time": "2024-04-09T19:00:57.776316Z",
     "start_time": "2024-04-09T19:00:57.692530Z"
    }
   },
   "source": [
    "df = pd.read_csv('bank-additional-full.csv', sep=';')\n",
    "\n",
    "print(df.describe())\n",
    "\n",
    "print(\"--------------------------------------------------\")\n",
    "print(df.shape)\n"
   ],
   "outputs": [
    {
     "name": "stdout",
     "output_type": "stream",
     "text": [
      "               age      duration      campaign         pdays      previous  \\\n",
      "count  41188.00000  41188.000000  41188.000000  41188.000000  41188.000000   \n",
      "mean      40.02406    258.285010      2.567593    962.475454      0.172963   \n",
      "std       10.42125    259.279249      2.770014    186.910907      0.494901   \n",
      "min       17.00000      0.000000      1.000000      0.000000      0.000000   \n",
      "25%       32.00000    102.000000      1.000000    999.000000      0.000000   \n",
      "50%       38.00000    180.000000      2.000000    999.000000      0.000000   \n",
      "75%       47.00000    319.000000      3.000000    999.000000      0.000000   \n",
      "max       98.00000   4918.000000     56.000000    999.000000      7.000000   \n",
      "\n",
      "       emp.var.rate  cons.price.idx  cons.conf.idx     euribor3m   nr.employed  \n",
      "count  41188.000000    41188.000000   41188.000000  41188.000000  41188.000000  \n",
      "mean       0.081886       93.575664     -40.502600      3.621291   5167.035911  \n",
      "std        1.570960        0.578840       4.628198      1.734447     72.251528  \n",
      "min       -3.400000       92.201000     -50.800000      0.634000   4963.600000  \n",
      "25%       -1.800000       93.075000     -42.700000      1.344000   5099.100000  \n",
      "50%        1.100000       93.749000     -41.800000      4.857000   5191.000000  \n",
      "75%        1.400000       93.994000     -36.400000      4.961000   5228.100000  \n",
      "max        1.400000       94.767000     -26.900000      5.045000   5228.100000  \n",
      "--------------------------------------------------\n",
      "(41188, 21)\n"
     ]
    }
   ],
   "execution_count": 4
  },
  {
   "cell_type": "markdown",
   "metadata": {
    "id": "DsIS2KLCysZs"
   },
   "source": [
    "**Завдання 2** підготовка цільової змінної  \n",
    "\n",
    "1. проаналізувати атрибути вибірки, визначити цільовий атрибут `target atribute`;\n",
    "2. якщо `target atribute` є категоріальним, його необхідно перетворити в чисельний."
   ]
  },
  {
   "cell_type": "code",
   "metadata": {
    "id": "LKsTWBCdysZt",
    "ExecuteTime": {
     "end_time": "2024-04-09T19:00:59.669642Z",
     "start_time": "2024-04-09T19:00:59.660045Z"
    }
   },
   "source": [
    "if df['y'].dtypes == 'object':\n",
    "    le = LabelEncoder()\n",
    "    df['y'] = le.fit_transform(df['y'])\n",
    "\n",
    "print(df['y'].dtypes)"
   ],
   "outputs": [
    {
     "name": "stdout",
     "output_type": "stream",
     "text": [
      "int64\n"
     ]
    }
   ],
   "execution_count": 5
  },
  {
   "cell_type": "markdown",
   "metadata": {
    "id": "VHy_NT1aysZt"
   },
   "source": [
    "## Аналіз змінних, які характеризують клієнтів банку:"
   ]
  },
  {
   "cell_type": "markdown",
   "metadata": {
    "id": "GDSktQp_ysZt"
   },
   "source": [
    "**Завдання 3** Визначитись зі всіма атрибутами, що характреризують кліентів банку:\n",
    "- виділити їх в окрему частину;\n",
    "- первірити всі змінні (які унікальні значення містять атрибути)(дивись опис датасету)."
   ]
  },
  {
   "cell_type": "code",
   "metadata": {
    "id": "lku0lnRIysZt",
    "ExecuteTime": {
     "end_time": "2024-04-09T19:01:01.258937Z",
     "start_time": "2024-04-09T19:01:01.239305Z"
    }
   },
   "source": [
    "bank_client = df[['age', 'job', 'marital', 'education', 'default', 'housing', 'loan']]\n",
    "\n",
    "for col in bank_client.columns:\n",
    "    print(\"-----\")\n",
    "    print(f\"{col}: {bank_client[col].unique()}\")"
   ],
   "outputs": [
    {
     "name": "stdout",
     "output_type": "stream",
     "text": [
      "-----\n",
      "age: [56 57 37 40 45 59 41 24 25 29 35 54 46 50 39 30 55 49 34 52 58 32 38 44\n",
      " 42 60 53 47 51 48 33 31 43 36 28 27 26 22 23 20 21 61 19 18 70 66 76 67\n",
      " 73 88 95 77 68 75 63 80 62 65 72 82 64 71 69 78 85 79 83 81 74 17 87 91\n",
      " 86 98 94 84 92 89]\n",
      "-----\n",
      "job: ['housemaid' 'services' 'admin.' 'blue-collar' 'technician' 'retired'\n",
      " 'management' 'unemployed' 'self-employed' 'unknown' 'entrepreneur'\n",
      " 'student']\n",
      "-----\n",
      "marital: ['married' 'single' 'divorced' 'unknown']\n",
      "-----\n",
      "education: ['basic.4y' 'high.school' 'basic.6y' 'basic.9y' 'professional.course'\n",
      " 'unknown' 'university.degree' 'illiterate']\n",
      "-----\n",
      "default: ['no' 'unknown' 'yes']\n",
      "-----\n",
      "housing: ['no' 'yes' 'unknown']\n",
      "-----\n",
      "loan: ['no' 'yes' 'unknown']\n"
     ]
    }
   ],
   "execution_count": 6
  },
  {
   "cell_type": "markdown",
   "metadata": {
    "id": "zfKF4TiAysZt"
   },
   "source": [
    "**Завдання 4** Аналіз атрибуту `Age`:  \n",
    "1. Вивести максимальне та мінімальне значення;  \n",
    "2. Перевірити на наявність `NaN`;  \n",
    "3. Провести візуальний аналіз зміної `Age`:\n",
    "    - побудувати `countplot`, `boxplot`, `distplot`;\n",
    "    - перевірити розподіл по змінній `Age` на важкі хвости."
   ]
  },
  {
   "cell_type": "code",
   "metadata": {
    "id": "ksMwh5pLysZu",
    "ExecuteTime": {
     "end_time": "2024-04-09T19:03:57.386768Z",
     "start_time": "2024-04-09T19:01:03.231635Z"
    }
   },
   "source": [
    "print(\"Max in 'Age':\", bank_client['age'].max())\n",
    "print(\"Min in 'Age':\", bank_client['age'].min())\n",
    "\n",
    "print(\"Number of NaN values in 'Age':\", bank_client['age'].isna().sum())\n",
    "\n",
    "print(\"Skew :\", bank_client['age'].skew())\n",
    "\n",
    "sns.countplot(bank_client['age'])\n",
    "plt.show()\n",
    "\n",
    "sns.boxplot(bank_client['age'])\n",
    "plt.show()\n",
    "\n",
    "sns.distplot(bank_client['age'])\n",
    "plt.show()"
   ],
   "outputs": [
    {
     "name": "stdout",
     "output_type": "stream",
     "text": [
      "Max in 'Age': 98\n",
      "Min in 'Age': 17\n",
      "Number of NaN values in 'Age': 0\n",
      "Skew : 0.7846968157646645\n"
     ]
    },
    {
     "data": {
      "text/plain": [
       "<Figure size 640x480 with 1 Axes>"
      ],
      "image/png": "[encoded data removed]"
     },
     "metadata": {},
     "output_type": "display_data"
    },
    {
     "data": {
      "text/plain": [
       "<Figure size 640x480 with 1 Axes>"
      ],
      "image/png": "[encoded data removed]"
     },
     "metadata": {},
     "output_type": "display_data"
    },
    {
     "data": {
      "text/plain": [
       "<Figure size 640x480 with 1 Axes>"
      ],
      "image/png": "[encoded data removed]"
     },
     "metadata": {},
     "output_type": "display_data"
    }
   ],
   "execution_count": 7
  },
  {
   "cell_type": "markdown",
   "metadata": {
    "id": "P_2Fdjg8ysZu"
   },
   "source": [
    "**Висновки з 1-4 завдання (детальні)**"
   ]
  },
  {
   "cell_type": "markdown",
   "metadata": {
    "id": "6MRw2gFlysZu"
   },
   "source": [
    "1. Y :\n",
    "   - Цільовий атрибут визначений як \"y\", який вказує, чи підписав клієнт депозит (\"yes\" або \"no\").\n",
    "   - Цільовий атрибут був перетворений з категоріального у числовий формат для подальшого аналізу та моделювання.\n",
    "\n",
    "2. age :\n",
    "   - Максимальне значення віку складає 98 років, мінімальне - 17 років.\n",
    "   - У даному атрибуті немає пропущених значень (NaN).\n",
    "   - Графіки візуалізації (countplot, boxplot, distplot) демонструють, що розподіл віку досить нормальний з легкою нахилом управо, але з важким правим хвостом. Це може свідчити про те, що є невелика кількість старших осіб вище 60-ти років, які можуть бути аномальними значеннями або просто представляти меншість вибірки.\n",
    "      \n",
    "3. \n",
    "   - Аналіз атрибутів показує, що вік клієнтів різноманітний, але загалом сконцентрований від 20 до 60 років.\n",
    "   - Цільовий атрибут \"y\" було успішно перетворено для подальшого використання в моделях машинного навчання.\n",
    "   - Для кращого розуміння даних можна додатково провести аналіз інших атрибутів та їх взаємозв'язок з цільовим атрибутом \"y\". "
   ]
  },
  {
   "cell_type": "markdown",
   "metadata": {
    "id": "LHo0NoTHysZu"
   },
   "source": [
    "**Завдання 5** Перевірити атрибут `Age` на викиди: "
   ]
  },
  {
   "cell_type": "code",
   "metadata": {
    "id": "9iXl-Y4OysZu",
    "ExecuteTime": {
     "end_time": "2024-04-09T19:05:35.212997Z",
     "start_time": "2024-04-09T19:05:35.208963Z"
    }
   },
   "source": [
    "def detect_outliers_with_interquantile_range(df: pd.DataFrame,\n",
    "                                             column: str,\n",
    "                                             low_percentile: int,\n",
    "                                             high_percentile: int) -> pd.DataFrame:\n",
    "    \"\"\"\n",
    "    Detecting outliers using interquantile range set manually\n",
    "\n",
    "    df: pd.DataFrame to detect outliers\n",
    "    column: target column\n",
    "    low_percentile: lower bound between 0 and 100\n",
    "    high_percentile: upper bound between 0 and 100\n",
    "\n",
    "    returns: pd.DataFrame with detected outliers\n",
    "\n",
    "    \"\"\"\n",
    "\n",
    "    sorted_data = np.sort(df[column])\n",
    "    # Calculate Q1, Q2, Q3 and IQR.\n",
    "    Q1 = np.percentile(sorted_data, low_percentile)\n",
    "    Q3 = np.percentile(sorted_data, high_percentile)\n",
    "    print('')\n",
    "    print(f\"Q1 {low_percentile} percentile of the given data: {Q1}\")\n",
    "    print('')\n",
    "    print(f\"Q3 {high_percentile} percentile of the given data: {Q3}\")\n",
    "    print('')\n",
    "    print('----------------------------------------------------------')\n",
    "\n",
    "    IQR = Q3 - Q1\n",
    "    print('')\n",
    "    print(f\"Interquantile range: {IQR}\")\n",
    "    print('')\n",
    "    print('----------------------------------------------------------')\n",
    "    low_lim = Q1 - 1.5 * IQR\n",
    "    up_lim = Q3 + 1.5 * IQR\n",
    "    print('')\n",
    "    print(f\" Lower bound: {low_lim}\")\n",
    "    print('')\n",
    "    print(f\" Upper bound: {up_lim}\")\n",
    "    print('')\n",
    "    print('----------------------------------------------------------')\n",
    "    outliers = df[(df[column] > up_lim) | (df[column] < low_lim)]\n",
    "    print('')\n",
    "    print(f\"Outliers in the dataset:\")\n",
    "    display(outliers)\n",
    "\n",
    "    return outliers"
   ],
   "outputs": [],
   "execution_count": 11
  },
  {
   "cell_type": "code",
   "metadata": {
    "id": "gc_oPZJMysZv",
    "ExecuteTime": {
     "end_time": "2024-04-09T19:12:22.662931Z",
     "start_time": "2024-04-09T19:12:22.655782Z"
    }
   },
   "source": [
    "outliers = detect_outliers_with_interquantile_range(bank_client, 'age', 10, 90)"
   ],
   "outputs": [
    {
     "name": "stdout",
     "output_type": "stream",
     "text": [
      "\n",
      "Q1 10 percentile of the given data: 28.0\n",
      "\n",
      "Q3 90 percentile of the given data: 55.0\n",
      "\n",
      "----------------------------------------------------------\n",
      "\n",
      "Interquantile range: 27.0\n",
      "\n",
      "----------------------------------------------------------\n",
      "\n",
      " Lower bound: -12.5\n",
      "\n",
      " Upper bound: 95.5\n",
      "\n",
      "----------------------------------------------------------\n",
      "\n",
      "Outliers in the dataset:\n"
     ]
    },
    {
     "data": {
      "text/plain": [
       "       age  job  marital  education  default  housing  loan age_group\n",
       "38452   98    5        1          0        1        2     0        Q4\n",
       "38455   98    5        1          0        1        2     0        Q4"
      ],
      "text/html": [
       "<div>\n",
       "<style scoped>\n",
       "    .dataframe tbody tr th:only-of-type {\n",
       "        vertical-align: middle;\n",
       "    }\n",
       "\n",
       "    .dataframe tbody tr th {\n",
       "        vertical-align: top;\n",
       "    }\n",
       "\n",
       "    .dataframe thead th {\n",
       "        text-align: right;\n",
       "    }\n",
       "</style>\n",
       "<table border=\"1\" class=\"dataframe\">\n",
       "  <thead>\n",
       "    <tr style=\"text-align: right;\">\n",
       "      <th></th>\n",
       "      <th>age</th>\n",
       "      <th>job</th>\n",
       "      <th>marital</th>\n",
       "      <th>education</th>\n",
       "      <th>default</th>\n",
       "      <th>housing</th>\n",
       "      <th>loan</th>\n",
       "      <th>age_group</th>\n",
       "    </tr>\n",
       "  </thead>\n",
       "  <tbody>\n",
       "    <tr>\n",
       "      <th>38452</th>\n",
       "      <td>98</td>\n",
       "      <td>5</td>\n",
       "      <td>1</td>\n",
       "      <td>0</td>\n",
       "      <td>1</td>\n",
       "      <td>2</td>\n",
       "      <td>0</td>\n",
       "      <td>Q4</td>\n",
       "    </tr>\n",
       "    <tr>\n",
       "      <th>38455</th>\n",
       "      <td>98</td>\n",
       "      <td>5</td>\n",
       "      <td>1</td>\n",
       "      <td>0</td>\n",
       "      <td>1</td>\n",
       "      <td>2</td>\n",
       "      <td>0</td>\n",
       "      <td>Q4</td>\n",
       "    </tr>\n",
       "  </tbody>\n",
       "</table>\n",
       "</div>"
      ]
     },
     "metadata": {},
     "output_type": "display_data"
    }
   ],
   "execution_count": 43
  },
  {
   "cell_type": "markdown",
   "metadata": {
    "id": "PN-ypxmiysZv"
   },
   "source": [
    "**Висновки з завдання 5 (детальні)**"
   ]
  },
  {
   "cell_type": "markdown",
   "metadata": {
    "id": "vJzhjPQ_ysZv"
   },
   "source": [
    "1. Квартилі:\n",
    "\n",
    "10-й перцентиль складає 28, що означає, що 10% вибірки мають вік менше або рівний 28.\n",
    "90-й перцентиль складає 55, що означає, що 90% вибірки мають вік менше або рівний 55.\n",
    "Міжквартильний діапазон (IQR) складає 27, що є різницею між верхнім (Q3) та нижнім (Q1) квартилями.\n",
    "\n",
    "2. Викиди:\n",
    "\n",
    "Нижня межа визначена як Q1 - 1.5 * IQR, що дорівнює -12.5.\n",
    "Верхня межа визначена як Q3 + 1.5 * IQR, що дорівнює 95.5.\n",
    "У вашому наборі даних виявлено два викиди з віком 98 років."
   ]
  },
  {
   "cell_type": "markdown",
   "metadata": {
    "id": "llohM2tDysZv"
   },
   "source": [
    "**Завдання 6** Аналіз атрибутів `job`, `marital` та `education`:  \n",
    "- Побудувати графіки розподілу даних по цим змінним."
   ]
  },
  {
   "cell_type": "code",
   "metadata": {
    "id": "Srz_q9wSysZw",
    "ExecuteTime": {
     "end_time": "2024-04-09T19:05:40.087419Z",
     "start_time": "2024-04-09T19:05:39.950948Z"
    }
   },
   "source": [
    "plt.figure(figsize=(10,5))\n",
    "sns.countplot(data=bank_client, x='job')\n",
    "plt.title('Job Distribution')\n",
    "plt.show()"
   ],
   "outputs": [
    {
     "data": {
      "text/plain": [
       "<Figure size 1000x500 with 1 Axes>"
      ],
      "image/png": "[encoded data removed]"
     },
     "metadata": {},
     "output_type": "display_data"
    }
   ],
   "execution_count": 14
  },
  {
   "cell_type": "code",
   "metadata": {
    "id": "X8IXg3ZEysZw",
    "ExecuteTime": {
     "end_time": "2024-04-09T19:05:42.333237Z",
     "start_time": "2024-04-09T19:05:42.219982Z"
    }
   },
   "source": [
    "plt.figure(figsize=(10,5))\n",
    "sns.countplot(data=bank_client, x='marital')\n",
    "plt.title('Marital Status Distribution')\n",
    "plt.show()"
   ],
   "outputs": [
    {
     "data": {
      "text/plain": [
       "<Figure size 1000x500 with 1 Axes>"
      ],
      "image/png": "[encoded data removed]"
     },
     "metadata": {},
     "output_type": "display_data"
    }
   ],
   "execution_count": 15
  },
  {
   "cell_type": "code",
   "metadata": {
    "id": "CpmtGSyAysZw",
    "ExecuteTime": {
     "end_time": "2024-04-09T19:12:28.131976Z",
     "start_time": "2024-04-09T19:12:28.003782Z"
    }
   },
   "source": [
    "plt.figure(figsize=(10,5))\n",
    "sns.countplot(data=bank_client, x='education')\n",
    "plt.title('Education Level Distribution')\n",
    "plt.show()"
   ],
   "outputs": [
    {
     "data": {
      "text/plain": [
       "<Figure size 1000x500 with 1 Axes>"
      ],
      "image/png": "[encoded data removed]"
     },
     "metadata": {},
     "output_type": "display_data"
    }
   ],
   "execution_count": 44
  },
  {
   "cell_type": "markdown",
   "metadata": {
    "id": "_HoSeGyxysZw"
   },
   "source": [
    "**Висновки з завдання 6 (детальні)**"
   ]
  },
  {
   "cell_type": "markdown",
   "metadata": {
    "id": "ED3cGHeVysZw"
   },
   "source": "1.   Згідно розподілу ми можемо побачити що більша кількість людей у вибірці є одруженими, з вищою освітою та працюють у сфері адміністрування або у сфері послуг."
  },
  {
   "cell_type": "markdown",
   "metadata": {
    "id": "jw3sXGn5ysZw"
   },
   "source": [
    "**Завдання 7** Аналіз атрибутів `default`, `housing` та `loan`:  \n",
    "- Побудувати графіки розподілу даних по цим змінним."
   ]
  },
  {
   "cell_type": "code",
   "metadata": {
    "id": "ZY9DAx6jysZx",
    "ExecuteTime": {
     "end_time": "2024-04-09T19:12:30.741099Z",
     "start_time": "2024-04-09T19:12:30.650653Z"
    }
   },
   "source": [
    "plt.subplot(1, 3, 1)\n",
    "sns.countplot(x='default', data=df)\n",
    "plt.title('Default')\n",
    "plt.show()"
   ],
   "outputs": [
    {
     "data": {
      "text/plain": [
       "<Figure size 640x480 with 1 Axes>"
      ],
      "image/png": "[encoded data removed]"
     },
     "metadata": {},
     "output_type": "display_data"
    }
   ],
   "execution_count": 45
  },
  {
   "cell_type": "code",
   "metadata": {
    "id": "Ak_0-1PxysZx",
    "ExecuteTime": {
     "end_time": "2024-04-09T19:12:32.453468Z",
     "start_time": "2024-04-09T19:12:32.358638Z"
    }
   },
   "source": [
    "plt.subplot(1, 3, 2)\n",
    "sns.countplot(x='housing', data=df)\n",
    "plt.title('Housing')\n",
    "plt.show()"
   ],
   "outputs": [
    {
     "data": {
      "text/plain": [
       "<Figure size 640x480 with 1 Axes>"
      ],
      "image/png": "[encoded data removed]"
     },
     "metadata": {},
     "output_type": "display_data"
    }
   ],
   "execution_count": 46
  },
  {
   "cell_type": "code",
   "metadata": {
    "id": "NDArycEQysZx",
    "ExecuteTime": {
     "end_time": "2024-04-09T19:12:34.213786Z",
     "start_time": "2024-04-09T19:12:34.125509Z"
    }
   },
   "source": [
    "plt.subplot(1, 3, 3)\n",
    "sns.countplot(x='loan', data=df)\n",
    "plt.title('Loan')\n",
    "plt.show()"
   ],
   "outputs": [
    {
     "data": {
      "text/plain": [
       "<Figure size 640x480 with 1 Axes>"
      ],
      "image/png": "[encoded data removed]"
     },
     "metadata": {},
     "output_type": "display_data"
    }
   ],
   "execution_count": 47
  },
  {
   "cell_type": "markdown",
   "metadata": {
    "id": "wYtREfcJysZx"
   },
   "source": [
    "**Завдання 8** Змінні **Jobs, Marital, Education, Default, Housing, Loan** трансформувати в неперервні змінні:"
   ]
  },
  {
   "cell_type": "code",
   "metadata": {
    "id": "Wsg4TFQzysZx",
    "ExecuteTime": {
     "end_time": "2024-04-09T19:12:36.175788Z",
     "start_time": "2024-04-09T19:12:36.173003Z"
    }
   },
   "source": [
    "def encode_categorical_columns(df: pd.DataFrame, categorical_cols: list) -> pd.DataFrame:\n",
    "    \"\"\"\n",
    "    Function for encoding categorical features using LabelEncoder\n",
    "    \n",
    "    df: pd.DataFrame to encode\n",
    "    categorical_cols: specified columns to encode\n",
    "    \n",
    "    returns: pd.DataFrame with encoded values\n",
    "    \"\"\"\n",
    "    for col in categorical_cols:\n",
    "        le = LabelEncoder()\n",
    "        not_null = df[col][df[col].notnull()]\n",
    "        df[col] = pd.Series(le.fit_transform(not_null), index=not_null.index)\n",
    "      \n",
    "    return df"
   ],
   "outputs": [],
   "execution_count": 48
  },
  {
   "cell_type": "code",
   "metadata": {
    "id": "pInQzFcxysZx",
    "ExecuteTime": {
     "end_time": "2024-04-09T19:12:37.801566Z",
     "start_time": "2024-04-09T19:12:37.792386Z"
    }
   },
   "source": [
    "bank_client = encode_categorical_columns(bank_client, ['job', 'marital', 'education', 'default', 'housing',  'loan'])"
   ],
   "outputs": [],
   "execution_count": 49
  },
  {
   "cell_type": "markdown",
   "metadata": {
    "id": "qY0ybijaysZy"
   },
   "source": "**Завдання 9** Трансфомувати змінну **Age** (використовуючи її квартильні значення):"
  },
  {
   "cell_type": "code",
   "metadata": {
    "id": "jKCNuX1YysZy",
    "ExecuteTime": {
     "end_time": "2024-04-09T19:12:39.116243Z",
     "start_time": "2024-04-09T19:12:39.113005Z"
    }
   },
   "source": [
    "def encode_age(dataframe: pd.DataFrame, age_col: str ) -> pd.DataFrame:\n",
    "    \"\"\"\n",
    "    Function for encoding age column\n",
    "    \n",
    "    dataframe: pd.DataFrame to encode\n",
    "    age_col: age col to encode \n",
    "    \"\"\"\n",
    "    # Calculate quartiles\n",
    "    Q1 = dataframe[age_col].quantile(0.25)\n",
    "    Q2 = dataframe[age_col].quantile(0.5)\n",
    "    Q3 = dataframe[age_col].quantile(0.75)\n",
    "    \n",
    "    # Create a new column 'age_group' and assign values based on age quartiles\n",
    "    dataframe.loc[(dataframe[age_col] <= Q1), 'age_group'] = 'Q1'\n",
    "    dataframe.loc[(dataframe[age_col] > Q1) & (dataframe[age_col] <= Q2), 'age_group'] = 'Q2'\n",
    "    dataframe.loc[(dataframe[age_col] > Q2) & (dataframe[age_col] <= Q3), 'age_group'] = 'Q3'\n",
    "    dataframe.loc[(dataframe[age_col] > Q3), 'age_group'] = 'Q4'\n",
    "    \n",
    "    return dataframe"
   ],
   "outputs": [],
   "execution_count": 50
  },
  {
   "cell_type": "code",
   "metadata": {
    "id": "FexEyw5BysZy",
    "ExecuteTime": {
     "end_time": "2024-04-09T19:12:40.705105Z",
     "start_time": "2024-04-09T19:12:40.699566Z"
    }
   },
   "source": [
    "bank_client = encode_age(bank_client, 'age')"
   ],
   "outputs": [],
   "execution_count": 51
  },
  {
   "cell_type": "markdown",
   "metadata": {
    "id": "9F2SI64JysZy"
   },
   "source": "**Висновки з завдання 9 (детальні)** перевірити як відбулося перетворення змінних\n"
  },
  {
   "metadata": {
    "ExecuteTime": {
     "end_time": "2024-04-09T19:12:41.725365Z",
     "start_time": "2024-04-09T19:12:41.720745Z"
    }
   },
   "cell_type": "code",
   "source": "print(bank_client.head())",
   "outputs": [
    {
     "name": "stdout",
     "output_type": "stream",
     "text": [
      "   age  job  marital  education  default  housing  loan age_group\n",
      "0   56    3        1          0        0        0     0        Q4\n",
      "1   57    7        1          3        1        0     0        Q4\n",
      "2   37    7        1          3        0        2     0        Q2\n",
      "3   40    0        1          1        0        0     0        Q3\n",
      "4   56    7        1          3        0        0     2        Q4\n"
     ]
    }
   ],
   "execution_count": 52
  },
  {
   "metadata": {},
   "cell_type": "markdown",
   "source": ""
  },
  {
   "cell_type": "markdown",
   "metadata": {
    "id": "U32QZJAeysZy"
   },
   "source": [
    "## Вибірка містить певну кількість атрибутів, які характеризують останій зв'язок кліентів з банком"
   ]
  },
  {
   "cell_type": "markdown",
   "metadata": {
    "id": "gzxtGoEiysZy"
   },
   "source": [
    "**Завдання 10** Виділити в окремий датафрейм змінні, які характеризують зв'язок клієнтів з банком;\n",
    "- вивести цей датафрейм;\n",
    "- перевірити ці змінні на `NaN`."
   ]
  },
  {
   "cell_type": "code",
   "metadata": {
    "id": "p0zB5zHeysZy",
    "ExecuteTime": {
     "end_time": "2024-04-09T19:12:43.472419Z",
     "start_time": "2024-04-09T19:12:43.462928Z"
    }
   },
   "source": [
    "bank_relat = df[['contact', 'month', 'day_of_week', 'duration', 'campaign', 'pdays', 'previous', 'poutcome']]\n",
    "\n",
    "print(bank_relat)\n",
    "\n",
    "print(\"-----------------------NaN-------------------------\")\n",
    "print(bank_relat.isnull().sum())"
   ],
   "outputs": [
    {
     "name": "stdout",
     "output_type": "stream",
     "text": [
      "         contact month day_of_week  duration  campaign  pdays  previous  \\\n",
      "0      telephone   may         mon       261         1    999         0   \n",
      "1      telephone   may         mon       149         1    999         0   \n",
      "2      telephone   may         mon       226         1    999         0   \n",
      "3      telephone   may         mon       151         1    999         0   \n",
      "4      telephone   may         mon       307         1    999         0   \n",
      "...          ...   ...         ...       ...       ...    ...       ...   \n",
      "41183   cellular   nov         fri       334         1    999         0   \n",
      "41184   cellular   nov         fri       383         1    999         0   \n",
      "41185   cellular   nov         fri       189         2    999         0   \n",
      "41186   cellular   nov         fri       442         1    999         0   \n",
      "41187   cellular   nov         fri       239         3    999         1   \n",
      "\n",
      "          poutcome  \n",
      "0      nonexistent  \n",
      "1      nonexistent  \n",
      "2      nonexistent  \n",
      "3      nonexistent  \n",
      "4      nonexistent  \n",
      "...            ...  \n",
      "41183  nonexistent  \n",
      "41184  nonexistent  \n",
      "41185  nonexistent  \n",
      "41186  nonexistent  \n",
      "41187      failure  \n",
      "\n",
      "[41188 rows x 8 columns]\n",
      "-----------------------NaN-------------------------\n",
      "contact        0\n",
      "month          0\n",
      "day_of_week    0\n",
      "duration       0\n",
      "campaign       0\n",
      "pdays          0\n",
      "previous       0\n",
      "poutcome       0\n",
      "dtype: int64\n"
     ]
    }
   ],
   "execution_count": 53
  },
  {
   "cell_type": "markdown",
   "metadata": {
    "id": "Axa42bVcysZz"
   },
   "source": [
    "**Завдання 11** вивести унікальні значення, які містять атрибути `contact`, `month`, `day_of_week`"
   ]
  },
  {
   "cell_type": "code",
   "metadata": {
    "id": "YesBNZfIysZz",
    "ExecuteTime": {
     "end_time": "2024-04-09T19:12:44.963275Z",
     "start_time": "2024-04-09T19:12:44.958151Z"
    }
   },
   "source": [
    "print(\"Unique contacts:\", bank_relat['contact'].unique())\n",
    "print(\"Unique months:\", bank_relat['month'].unique())\n",
    "print(\"Unique days of week:\", bank_relat['day_of_week'].unique())"
   ],
   "outputs": [
    {
     "name": "stdout",
     "output_type": "stream",
     "text": [
      "Unique contacts: ['telephone' 'cellular']\n",
      "Unique months: ['may' 'jun' 'jul' 'aug' 'oct' 'nov' 'dec' 'mar' 'apr' 'sep']\n",
      "Unique days of week: ['mon' 'tue' 'wed' 'thu' 'fri']\n"
     ]
    }
   ],
   "execution_count": 54
  },
  {
   "cell_type": "markdown",
   "metadata": {
    "id": "6fFzX2raysZz"
   },
   "source": [
    "# Провести аналіз змінної **Duration**"
   ]
  },
  {
   "cell_type": "markdown",
   "metadata": {
    "id": "YiP7F-TAysZz"
   },
   "source": [
    "змінна ` duration` містить інформацію про тривалість останнього дзвінка, в секундах (числова). Важливе зауваження: цей атрибут сильно впливає на цільову змінну (наприклад, якщо тривалість = 0, тоді y = \"ні\"). Проте тривалість невідома до здійснення дзвінка. Крім того, після закінчення дзвінка y, очевидно, відомо. Таким чином, цей внесок слід включати лише для цілей порівняльних показників і відкидати, якщо метою є реалістична модель прогнозування."
   ]
  },
  {
   "cell_type": "markdown",
   "metadata": {
    "id": "VH7T1BCsysZz"
   },
   "source": [
    "**Завдання 12** Аналіз атрибуту `duration`:  \n",
    "\n",
    "Провести візуальний аналіз зміної `duration`:  \n",
    "\n",
    "\n",
    "*   побудувати  `boxplot` та `distplot`; \n",
    "*   перевірити розподіл по змінній `duration` на важкі хвости. \n",
    "\n"
   ]
  },
  {
   "cell_type": "code",
   "metadata": {
    "id": "0ijoio2zysZz",
    "ExecuteTime": {
     "end_time": "2024-04-09T19:12:46.771436Z",
     "start_time": "2024-04-09T19:12:46.468085Z"
    }
   },
   "source": [
    "plt.figure(figsize=(10, 4))\n",
    "sns.boxplot(df['duration'])\n",
    "plt.title('Boxplot of duration')\n",
    "plt.show()\n",
    "\n",
    "plt.figure(figsize=(10, 4))\n",
    "sns.distplot(df['duration'], bins=30)\n",
    "plt.title('Distribution of duration')\n",
    "plt.show()\n",
    "\n",
    "skewness = df['duration'].skew()\n",
    "print(f'Skewness of duration: {skewness}')"
   ],
   "outputs": [
    {
     "data": {
      "text/plain": [
       "<Figure size 1000x400 with 1 Axes>"
      ],
      "image/png": "[encoded data removed]"
     },
     "metadata": {},
     "output_type": "display_data"
    },
    {
     "data": {
      "text/plain": [
       "<Figure size 1000x400 with 1 Axes>"
      ],
      "image/png": "[encoded data removed]"
     },
     "metadata": {},
     "output_type": "display_data"
    },
    {
     "name": "stdout",
     "output_type": "stream",
     "text": [
      "Skewness of duration: 3.263141255262832\n"
     ]
    }
   ],
   "execution_count": 55
  },
  {
   "cell_type": "markdown",
   "metadata": {
    "id": "PQJ5TJgjysZ0"
   },
   "source": [
    "**Завдання 13** Закодувати змінні Contact, Month, Day of Week (використовуйте функцію `encode_categorical_columns()`)"
   ]
  },
  {
   "cell_type": "code",
   "metadata": {
    "id": "thp8iB4bysZ0",
    "ExecuteTime": {
     "end_time": "2024-04-09T19:12:49.393771Z",
     "start_time": "2024-04-09T19:12:49.375693Z"
    }
   },
   "source": "bank_relat = encode_categorical_columns(bank_relat, ['contact', 'month', 'day_of_week'])",
   "outputs": [],
   "execution_count": 56
  },
  {
   "cell_type": "markdown",
   "metadata": {
    "id": "56q7Ok-rysZ0"
   },
   "source": [
    "**Завдання 14** Трансфомувати змінну **duration**, використовуючи її квартильні значення:"
   ]
  },
  {
   "cell_type": "code",
   "metadata": {
    "id": "wxwc4i-aysZ0",
    "ExecuteTime": {
     "end_time": "2024-04-09T19:12:50.534324Z",
     "start_time": "2024-04-09T19:12:50.531474Z"
    }
   },
   "source": [
    "def encode_duration(dataframe: pd.DataFrame, duration_col: str ) -> pd.DataFrame:\n",
    "    \"\"\"\n",
    "    Function for encoding duration column\n",
    "    \n",
    "    dataframe: pd.DataFrame to encode\n",
    "    duration_col: duration col to encode \n",
    "    \"\"\"\n",
    "    \n",
    "    Q1 = dataframe[duration_col].quantile(0.25)\n",
    "    Q2 = dataframe[duration_col].quantile(0.5)\n",
    "    Q3 = dataframe[duration_col].quantile(0.75)\n",
    "    \n",
    "    dataframe.loc[(dataframe[duration_col] <= Q1), 'duration_group'] = 'Q1'\n",
    "    dataframe.loc[(dataframe[duration_col] > Q1) & (dataframe[duration_col] <= Q2), 'duration_group'] = 'Q2'\n",
    "    dataframe.loc[(dataframe[duration_col] > Q2) & (dataframe[duration_col] <= Q3), 'duration_group'] = 'Q3'\n",
    "    dataframe.loc[(dataframe[duration_col] > Q3), 'duration_group'] = 'Q4'\n",
    "    \n",
    "    return dataframe"
   ],
   "outputs": [],
   "execution_count": 57
  },
  {
   "cell_type": "code",
   "metadata": {
    "id": "yGlDw6uGysZ0",
    "ExecuteTime": {
     "end_time": "2024-04-09T19:12:51.706323Z",
     "start_time": "2024-04-09T19:12:51.699329Z"
    }
   },
   "source": [
    "bank_relat = encode_duration(bank_relat, 'duration')"
   ],
   "outputs": [],
   "execution_count": 58
  },
  {
   "cell_type": "markdown",
   "metadata": {
    "id": "09lfy5MvysZ0"
   },
   "source": [
    "## Провести аналіз атрибутів **соціального та економічного контексту**"
   ]
  },
  {
   "cell_type": "markdown",
   "metadata": {
    "id": "SnUz68opysZ1"
   },
   "source": [
    "**Завдання 15** Виділити в окремий датафрейм атрибути соціального та єкономічного контексту"
   ]
  },
  {
   "cell_type": "code",
   "metadata": {
    "id": "Iag7Z_6eysZ1",
    "ExecuteTime": {
     "end_time": "2024-04-09T19:12:52.871483Z",
     "start_time": "2024-04-09T19:12:52.869056Z"
    }
   },
   "source": "bank_socec = df[['emp.var.rate', 'cons.price.idx', 'cons.conf.idx', 'euribor3m', 'nr.employed']]",
   "outputs": [],
   "execution_count": 59
  },
  {
   "metadata": {},
   "cell_type": "markdown",
   "source": ""
  },
  {
   "cell_type": "markdown",
   "metadata": {
    "id": "yPtBjoemysZ1"
   },
   "source": [
    "**Завдання 16** Виділити в окремий датафрейм всі інші атрибути атрибути - `campaign`, `pdays`,`previous`, `poutcome`"
   ]
  },
  {
   "cell_type": "code",
   "metadata": {
    "id": "tcTvIR9xysZ3",
    "ExecuteTime": {
     "end_time": "2024-04-09T19:12:54.379507Z",
     "start_time": "2024-04-09T19:12:54.376769Z"
    }
   },
   "source": "bank_other = df[['campaign', 'pdays', 'previous', 'poutcome']]",
   "outputs": [],
   "execution_count": 60
  },
  {
   "cell_type": "markdown",
   "metadata": {
    "id": "hf9tgwqRysZ3"
   },
   "source": [
    "**Завдання 17** Провести трансформацію атрибуту `poutcome`"
   ]
  },
  {
   "cell_type": "code",
   "metadata": {
    "id": "nUVUzdq1ysZ3",
    "ExecuteTime": {
     "end_time": "2024-04-09T19:12:55.834843Z",
     "start_time": "2024-04-09T19:12:55.828641Z"
    }
   },
   "source": [
    "le = LabelEncoder()\n",
    "bank_other['poutcome'] = le.fit_transform(bank_other['poutcome'])"
   ],
   "outputs": [],
   "execution_count": 61
  },
  {
   "cell_type": "markdown",
   "metadata": {
    "id": "-E2GpdBKysZ4"
   },
   "source": [
    "## Будування моделей класифікації"
   ]
  },
  {
   "cell_type": "markdown",
   "metadata": {
    "id": "HZ6ZNGtvysZ4"
   },
   "source": [
    "**Завдання 18** З'єднати всі отримані блоки в один датафрейм і перевірити, що він містить тільки потрібні для моделювання колонки"
   ]
  },
  {
   "cell_type": "code",
   "metadata": {
    "id": "y6gbsEk2ysZ4",
    "ExecuteTime": {
     "end_time": "2024-04-09T19:12:57.112770Z",
     "start_time": "2024-04-09T19:12:57.108093Z"
    }
   },
   "source": [
    "bank_final = pd.concat([bank_client, bank_other], axis=1)\n",
    "\n",
    "print(bank_final.columns)"
   ],
   "outputs": [
    {
     "name": "stdout",
     "output_type": "stream",
     "text": [
      "Index(['age', 'job', 'marital', 'education', 'default', 'housing', 'loan',\n",
      "       'age_group', 'campaign', 'pdays', 'previous', 'poutcome'],\n",
      "      dtype='object')\n"
     ]
    }
   ],
   "execution_count": 62
  },
  {
   "cell_type": "markdown",
   "metadata": {
    "id": "_AwD8ZiBysZ4"
   },
   "source": [
    "**Завдання 19** Провести ділення вибірки"
   ]
  },
  {
   "cell_type": "code",
   "metadata": {
    "id": "RZhPJcZ4ysZ5",
    "ExecuteTime": {
     "end_time": "2024-04-09T19:12:58.601224Z",
     "start_time": "2024-04-09T19:12:58.598624Z"
    }
   },
   "source": [
    "def prepare_data_for_training(X: pd.DataFrame,\n",
    "                              target: pd.Series,\n",
    "                              test_size: float,\n",
    "                              n_splits: int,\n",
    "                              random_state: int):\n",
    "    \"\"\"\n",
    "    Function that prepares data for training. Splits the data into train and test datasets and get k-folds for cross-validation\n",
    "\n",
    "    X: pd.DataFrame with features\n",
    "    target: target pd.Series\n",
    "    test_size: the size of test datasets\n",
    "    n_splits: number of cross-validation splits\n",
    "    random_state: random state to reproduce the same split\n",
    "\n",
    "    returns: X_train, X_test, y_train, y_test, k_fold\n",
    "    \"\"\"\n",
    "\n",
    "    X_train, X_test, y_train, y_test = train_test_split(X, target, test_size=test_size, random_state=random_state)\n",
    "    k_fold = KFold(n_splits=n_splits, shuffle=True, random_state=random_state)\n",
    "\n",
    "    return X_train, X_test, y_train, y_test, k_fold"
   ],
   "outputs": [],
   "execution_count": 63
  },
  {
   "cell_type": "code",
   "metadata": {
    "id": "1rj6PXqfysZ5",
    "ExecuteTime": {
     "end_time": "2024-04-09T19:13:01.096915Z",
     "start_time": "2024-04-09T19:13:01.090616Z"
    }
   },
   "source": [
    "target = bank_final['age']\n",
    "X_train, X_test, y_train, y_test, k_fold = prepare_data_for_training(bank_final, target, 0.2, 10, 101)"
   ],
   "outputs": [],
   "execution_count": 64
  },
  {
   "cell_type": "code",
   "metadata": {
    "id": "Zx4lCwm3ysZ6",
    "ExecuteTime": {
     "end_time": "2024-04-09T19:13:01.964746Z",
     "start_time": "2024-04-09T19:13:01.962619Z"
    }
   },
   "source": [
    "def scale_the_data(X_train: pd.DataFrame,\n",
    "                   X_test: pd.DataFrame):\n",
    "    \n",
    "    sc_X = StandardScaler()\n",
    "    numeric_cols = X_train.select_dtypes(include=[np.number]).columns\n",
    "\n",
    "    X_train[numeric_cols] = sc_X.fit_transform(X_train[numeric_cols])\n",
    "    X_test[numeric_cols] = sc_X.transform(X_test[numeric_cols])\n",
    "\n",
    "    return X_train, X_test"
   ],
   "outputs": [],
   "execution_count": 65
  },
  {
   "cell_type": "code",
   "metadata": {
    "id": "v3ypxy96As9J",
    "ExecuteTime": {
     "end_time": "2024-04-09T19:13:03.325340Z",
     "start_time": "2024-04-09T19:13:03.316055Z"
    }
   },
   "source": "X_train, X_test = scale_the_data(X_train, X_test)",
   "outputs": [],
   "execution_count": 66
  },
  {
   "cell_type": "markdown",
   "metadata": {},
   "source": [
    "## Логістична Регресія"
   ]
  },
  {
   "cell_type": "code",
   "metadata": {
    "id": "TZBcy1C3ysZ6",
    "ExecuteTime": {
     "end_time": "2024-04-09T19:13:08.617759Z",
     "start_time": "2024-04-09T19:13:04.672207Z"
    }
   },
   "source": [
    "y = bank_final['age']\n",
    "X = bank_final['pdays']\n",
    "\n",
    "X_train, X_test, y_train, y_test = train_test_split(X, y, test_size=0.2, random_state=42)\n",
    "\n",
    "logistic_model = LogisticRegression()\n",
    "X_train = X_train.values.reshape(-1, 1)\n",
    "X_test = X_test.values.reshape(-1, 1)\n",
    "logistic_model.fit(X_train, y_train)\n",
    "y_pred = logistic_model.predict(X_test)\n",
    "accuracy = accuracy_score(y_test, y_pred)\n",
    "\n",
    "print(f'Accuracy: {accuracy}')\n",
    "print(confusion_matrix(y_test, y_pred))"
   ],
   "outputs": [
    {
     "name": "stdout",
     "output_type": "stream",
     "text": [
      "Accuracy: 0.04806991988346686\n",
      "[[0 0 0 ... 0 0 0]\n",
      " [0 0 0 ... 0 0 0]\n",
      " [0 0 0 ... 0 0 0]\n",
      " ...\n",
      " [0 0 0 ... 0 0 0]\n",
      " [0 0 0 ... 0 0 0]\n",
      " [0 0 0 ... 0 0 0]]\n"
     ]
    }
   ],
   "execution_count": 67
  },
  {
   "cell_type": "markdown",
   "metadata": {},
   "source": [
    "## k-NN"
   ]
  },
  {
   "cell_type": "code",
   "metadata": {
    "id": "NHxB-_ZUysZ6",
    "ExecuteTime": {
     "end_time": "2024-04-09T19:14:28.817894Z",
     "start_time": "2024-04-09T19:13:13.398744Z"
    }
   },
   "source": [
    "#Neighbors\n",
    "neighbors = np.arange(0,25)\n",
    "\n",
    "#Create empty list that will hold cv scores\n",
    "cv_scores = []\n",
    "\n",
    "#Perform 10-fold cross validation on training set for odd values of k:\n",
    "for k in neighbors:\n",
    "    k_value = k+1\n",
    "    knn = KNeighborsClassifier(n_neighbors = k_value, weights='uniform', p=2, metric='euclidean')\n",
    "    scores = model_selection.cross_val_score(knn, X_train, y_train, cv=k_fold, scoring='accuracy')\n",
    "    cv_scores.append(scores.mean()*100)\n",
    "    print(\"k=%d %0.2f (+/- %0.2f)\" % (k_value, scores.mean()*100, scores.std()*100))\n",
    "\n",
    "optimal_k = neighbors[cv_scores.index(max(cv_scores))]\n",
    "print (\"The optimal number of neighbors is %d with %0.1f%%\" % (optimal_k, cv_scores[optimal_k]))\n",
    "\n",
    "plt.plot(neighbors, cv_scores)\n",
    "plt.xlabel('Number of Neighbors K')\n",
    "plt.ylabel('Train Accuracy')\n",
    "plt.show()"
   ],
   "outputs": [
    {
     "name": "stdout",
     "output_type": "stream",
     "text": [
      "k=1 3.03 (+/- 0.65)\n",
      "k=2 4.40 (+/- 0.60)\n",
      "k=3 4.41 (+/- 0.60)\n",
      "k=4 4.54 (+/- 0.28)\n",
      "k=5 4.56 (+/- 0.24)\n",
      "k=6 4.54 (+/- 0.24)\n",
      "k=7 4.54 (+/- 0.23)\n",
      "k=8 4.53 (+/- 0.24)\n",
      "k=9 4.09 (+/- 0.81)\n",
      "k=10 4.08 (+/- 0.80)\n",
      "k=11 4.19 (+/- 0.63)\n",
      "k=12 4.14 (+/- 0.52)\n",
      "k=13 4.14 (+/- 0.52)\n",
      "k=14 4.13 (+/- 0.51)\n",
      "k=15 4.22 (+/- 0.42)\n",
      "k=16 4.41 (+/- 0.29)\n",
      "k=17 4.42 (+/- 0.27)\n",
      "k=18 4.42 (+/- 0.28)\n",
      "k=19 4.42 (+/- 0.29)\n",
      "k=20 4.48 (+/- 0.30)\n",
      "k=21 4.36 (+/- 0.18)\n",
      "k=22 4.40 (+/- 0.29)\n",
      "k=23 4.39 (+/- 0.28)\n",
      "k=24 4.48 (+/- 0.31)\n",
      "k=25 4.47 (+/- 0.31)\n",
      "The optimal number of neighbors is 4 with 4.6%\n"
     ]
    },
    {
     "data": {
      "text/plain": [
       "<Figure size 640x480 with 1 Axes>"
      ],
      "image/png": "[encoded data removed]"
     },
     "metadata": {},
     "output_type": "display_data"
    }
   ],
   "execution_count": 68
  },
  {
   "cell_type": "code",
   "metadata": {
    "id": "483uXHTnysZ6",
    "ExecuteTime": {
     "end_time": "2024-04-09T19:14:37.499629Z",
     "start_time": "2024-04-09T19:14:36.258230Z"
    }
   },
   "source": [
    "knn = KNeighborsClassifier(n_neighbors=optimal_k)\n",
    "knn.fit(X_train, y_train)\n",
    "knnpred = knn.predict(X_test)\n",
    "\n",
    "print(confusion_matrix(y_test, knnpred))\n",
    "print(round(accuracy_score(y_test, knnpred),2)*100)\n",
    "KNNCV = (cross_val_score(knn, X_test, y_test, cv=k_fold, n_jobs=1, scoring = 'accuracy').mean())"
   ],
   "outputs": [
    {
     "name": "stdout",
     "output_type": "stream",
     "text": [
      "[[0 0 0 ... 0 0 0]\n",
      " [0 0 0 ... 0 0 0]\n",
      " [0 0 0 ... 0 0 0]\n",
      " ...\n",
      " [0 1 0 ... 0 0 0]\n",
      " [0 0 0 ... 0 0 0]\n",
      " [0 0 0 ... 0 0 0]]\n",
      "5.0\n"
     ]
    }
   ],
   "execution_count": 69
  },
  {
   "cell_type": "markdown",
   "metadata": {},
   "source": [
    "## Логістична Регресія"
   ]
  },
  {
   "cell_type": "code",
   "metadata": {
    "id": "bIir_TuRysZ7",
    "ExecuteTime": {
     "end_time": "2024-04-09T19:59:37.131866Z",
     "start_time": "2024-04-09T19:59:37.125064Z"
    }
   },
   "source": [
    "models = pd.DataFrame({\n",
    "    'Models': ['KNN'],\n",
    "    'Score':  [round(accuracy_score(y_test, knnpred),2)*100]\n",
    "})\n",
    "\n",
    "models.sort_values(by='Score', ascending=False)"
   ],
   "outputs": [
    {
     "data": {
      "text/plain": [
       "  Models  Score\n",
       "0    KNN    5.0"
      ],
      "text/html": [
       "<div>\n",
       "<style scoped>\n",
       "    .dataframe tbody tr th:only-of-type {\n",
       "        vertical-align: middle;\n",
       "    }\n",
       "\n",
       "    .dataframe tbody tr th {\n",
       "        vertical-align: top;\n",
       "    }\n",
       "\n",
       "    .dataframe thead th {\n",
       "        text-align: right;\n",
       "    }\n",
       "</style>\n",
       "<table border=\"1\" class=\"dataframe\">\n",
       "  <thead>\n",
       "    <tr style=\"text-align: right;\">\n",
       "      <th></th>\n",
       "      <th>Models</th>\n",
       "      <th>Score</th>\n",
       "    </tr>\n",
       "  </thead>\n",
       "  <tbody>\n",
       "    <tr>\n",
       "      <th>0</th>\n",
       "      <td>KNN</td>\n",
       "      <td>5.0</td>\n",
       "    </tr>\n",
       "  </tbody>\n",
       "</table>\n",
       "</div>"
      ]
     },
     "execution_count": 73,
     "metadata": {},
     "output_type": "execute_result"
    }
   ],
   "execution_count": 73
  },
  {
   "cell_type": "markdown",
   "metadata": {
    "id": "mh_Vd_vOysZ7"
   },
   "source": [
    "**Висновки по моделям (детальні)**"
   ]
  },
  {
   "cell_type": "markdown",
   "metadata": {
    "id": "ZK2CADn6ysZ7"
   },
   "source": [
    "1.k-NN модель:\n",
    "Оптимальна кількість сусідів (k) для моделі k-NN визначена як 4 з точністю приблизно 4.6% на тренувальному наборі даних.\n",
    "На тестовому наборі даних точність моделі k-NN становить лише 5%, що є дуже низьким показником.\n",
    "Матриця плутанини показує низьку здатність моделі правильно класифікувати вік клієнтів.\n",
    "\n",
    "2. Логістична регресія:\n",
    "\n",
    "Точність логістичної регресії на тестовому наборі даних також дуже низька - всього 5%.\n",
    "Перехресна перевірка підтверджує цей низький рівень точності з Cross Validation Score близько 4.8%."
   ]
  }
 ],
 "metadata": {
  "colab": {
   "name": "Task5_Classification (1).ipynb",
   "provenance": []
  },
  "kernelspec": {
   "display_name": "Python 3",
   "language": "python",
   "name": "python3"
  },
  "language_info": {
   "codemirror_mode": {
    "name": "ipython",
    "version": 3
   },
   "file_extension": ".py",
   "mimetype": "text/x-python",
   "name": "python",
   "nbconvert_exporter": "python",
   "pygments_lexer": "ipython3",
   "version": "3.11.7"
  }
 },
 "nbformat": 4,
 "nbformat_minor": 4
}
